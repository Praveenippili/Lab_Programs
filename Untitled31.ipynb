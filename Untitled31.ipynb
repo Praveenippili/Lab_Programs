{
 "cells": [
  {
   "cell_type": "code",
   "execution_count": null,
   "id": "b3795871",
   "metadata": {},
   "outputs": [],
   "source": [
    "print(\"hell0\")"
   ]
  },
  {
   "cell_type": "code",
   "execution_count": null,
   "id": "0527d701",
   "metadata": {},
   "outputs": [],
   "source": [
    "n=int(input(\"Enter numbers\"))\n",
    "t=0\n",
    "while(n>0):\n",
    "    t+=n%10\n",
    "    t=t//10\n",
    "print(n)"
   ]
  },
  {
   "cell_type": "code",
   "execution_count": null,
   "id": "6b0e392d",
   "metadata": {},
   "outputs": [],
   "source": []
  }
 ],
 "metadata": {
  "kernelspec": {
   "display_name": "Python 3 (ipykernel)",
   "language": "python",
   "name": "python3"
  },
  "language_info": {
   "codemirror_mode": {
    "name": "ipython",
    "version": 3
   },
   "file_extension": ".py",
   "mimetype": "text/x-python",
   "name": "python",
   "nbconvert_exporter": "python",
   "pygments_lexer": "ipython3",
   "version": "3.9.7"
  }
 },
 "nbformat": 4,
 "nbformat_minor": 5
}
