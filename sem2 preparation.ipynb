{
 "cells": [
  {
   "cell_type": "markdown",
   "id": "347a814e",
   "metadata": {},
   "source": [
    "# data types"
   ]
  },
  {
   "cell_type": "code",
   "execution_count": 4,
   "id": "1e11af47",
   "metadata": {},
   "outputs": [
    {
     "data": {
      "text/plain": [
       "int"
      ]
     },
     "execution_count": 4,
     "metadata": {},
     "output_type": "execute_result"
    }
   ],
   "source": [
    "x=12\n",
    "type(x)"
   ]
  },
  {
   "cell_type": "code",
   "execution_count": 2,
   "id": "8fee3834",
   "metadata": {},
   "outputs": [
    {
     "data": {
      "text/plain": [
       "float"
      ]
     },
     "execution_count": 2,
     "metadata": {},
     "output_type": "execute_result"
    }
   ],
   "source": [
    "y=12.3\n",
    "type(y)"
   ]
  },
  {
   "cell_type": "code",
   "execution_count": 5,
   "id": "ba77d7ba",
   "metadata": {},
   "outputs": [
    {
     "data": {
      "text/plain": [
       "complex"
      ]
     },
     "execution_count": 5,
     "metadata": {},
     "output_type": "execute_result"
    }
   ],
   "source": [
    "x=1+2j\n",
    "type(x)"
   ]
  },
  {
   "cell_type": "code",
   "execution_count": 12,
   "id": "6e5cf1d9",
   "metadata": {},
   "outputs": [
    {
     "name": "stdout",
     "output_type": "stream",
     "text": [
      "<class 'float'>\n"
     ]
    },
    {
     "data": {
      "text/plain": [
       "12.0"
      ]
     },
     "execution_count": 12,
     "metadata": {},
     "output_type": "execute_result"
    }
   ],
   "source": [
    "x=12\n",
    "a=float(x)\n",
    "print(type(a))\n",
    "a"
   ]
  },
  {
   "cell_type": "code",
   "execution_count": 10,
   "id": "92161d76",
   "metadata": {},
   "outputs": [
    {
     "data": {
      "text/plain": [
       "12"
      ]
     },
     "execution_count": 10,
     "metadata": {},
     "output_type": "execute_result"
    }
   ],
   "source": [
    "x=12.4\n",
    "b=int(x)\n",
    "b"
   ]
  },
  {
   "cell_type": "code",
   "execution_count": 15,
   "id": "cc65698c",
   "metadata": {},
   "outputs": [
    {
     "name": "stdout",
     "output_type": "stream",
     "text": [
      "30.3\n"
     ]
    },
    {
     "data": {
      "text/plain": [
       "float"
      ]
     },
     "execution_count": 15,
     "metadata": {},
     "output_type": "execute_result"
    }
   ],
   "source": [
    "#operators\n",
    "x=28+2.3\n",
    "print(x)\n",
    "type(x)"
   ]
  },
  {
   "cell_type": "code",
   "execution_count": 17,
   "id": "7d15cf18",
   "metadata": {},
   "outputs": [
    {
     "name": "stdout",
     "output_type": "stream",
     "text": [
      "39\n"
     ]
    }
   ],
   "source": [
    "a=35\n",
    "b=4.8\n",
    "sum=a+int(b)\n",
    "print(sum)"
   ]
  },
  {
   "cell_type": "code",
   "execution_count": 43,
   "id": "88b39366",
   "metadata": {},
   "outputs": [
    {
     "name": "stdout",
     "output_type": "stream",
     "text": [
      "-55\n",
      "55\n",
      "-56\n",
      "Arithmatic operators\n",
      "x+y= 24\n",
      "x-y= 16\n",
      "x*y= 80\n",
      "x/y= 5.0\n",
      "x//y= 5\n",
      "x%y= 0\n",
      "x**y= 160000\n",
      "comparison operators\n",
      "True\n",
      "False\n",
      "True\n",
      "False\n",
      "False\n",
      "True\n"
     ]
    }
   ],
   "source": [
    "#unary opeartors\n",
    "x=55\n",
    "print(-x)\n",
    "print(+x)\n",
    "print(~x)\n",
    "#Arthematic operators\n",
    "print(\"Arithmatic operators\")\n",
    "x=20\n",
    "y=4\n",
    "print(\"x+y=\",x+y)\n",
    "print(\"x-y=\",x-y)\n",
    "print(\"x*y=\",x*y)\n",
    "print(\"x/y=\",x/y)\n",
    "print(\"x//y=\",x//y)\n",
    "print(\"x%y=\",x%y)\n",
    "print(\"x**y=\",x**y)\n",
    "#comparison operators\n",
    "print(\"comparison operators\")\n",
    "a=10\n",
    "b=20\n",
    "print(a<b)\n",
    "print(a>b)\n",
    "print(a<=b)\n",
    "print(a>=b)\n",
    "print(a==b)\n",
    "print(a!=b)"
   ]
  },
  {
   "cell_type": "code",
   "execution_count": 50,
   "id": "dc94bff9",
   "metadata": {},
   "outputs": [
    {
     "name": "stdout",
     "output_type": "stream",
     "text": [
      "bitwise operators\n",
      "p&q= 2\n",
      "p|q= 11\n",
      "~p= -11\n",
      "False\n",
      "True\n",
      "True\n",
      "False\n"
     ]
    }
   ],
   "source": [
    "#bitwise operators \n",
    "print(\"bitwise operators\")\n",
    "p=10\n",
    "q=3\n",
    "r=10\n",
    "print(\"p&q=\",p&q)\n",
    "print(\"p|q=\",p|q)\n",
    "print(\"~p=\",~p)\n",
    "#logical operators\n",
    "x=(45==6)\n",
    "y=(6>4)\n",
    "a=x and y\n",
    "b=x or y\n",
    "c=not x\n",
    "d=not y\n",
    "print(a)\n",
    "print(b)\n",
    "print(c)\n",
    "print(d)"
   ]
  },
  {
   "cell_type": "code",
   "execution_count": 65,
   "id": "f4dd1fb7",
   "metadata": {},
   "outputs": [
    {
     "name": "stdout",
     "output_type": "stream",
     "text": [
      "31\n",
      "41.0\n",
      "149\n",
      "combinational exp\n",
      "46\n",
      "116\n"
     ]
    }
   ],
   "source": [
    "#expressions\n",
    "a=5+8+9*(3-1)\n",
    "print(a)\n",
    "b=(20/5)-3+8*5\n",
    "print(b)\n",
    "c=60-40+30*4+(3+6)\n",
    "print(c)\n",
    "#combinational expressions\n",
    "print(\"combinational exp\")\n",
    "a=34\n",
    "b=24\n",
    "c=a+(b>>1)\n",
    "print(c)\n",
    "x=(a<<1)+(b<<1)\n",
    "print(x)\n"
   ]
  },
  {
   "cell_type": "code",
   "execution_count": 69,
   "id": "593b7045",
   "metadata": {},
   "outputs": [
    {
     "data": {
      "text/plain": [
       "2.5"
      ]
     },
     "execution_count": 69,
     "metadata": {},
     "output_type": "execute_result"
    }
   ],
   "source": [
    "a=10\n",
    "b=4\n",
    "a//b\n",
    "a/b"
   ]
  },
  {
   "cell_type": "code",
   "execution_count": 73,
   "id": "6bf07401",
   "metadata": {},
   "outputs": [
    {
     "name": "stdout",
     "output_type": "stream",
     "text": [
      "10\n",
      "20\n",
      "----\n",
      "20\n",
      "30\n",
      "40\n",
      "---\n",
      "3\n",
      "3\n",
      "3.0\n"
     ]
    }
   ],
   "source": [
    "#variables\n",
    "a=10\n",
    "b=20\n",
    "print(a)\n",
    "print(b)\n",
    "print(\"----\")\n",
    "a,b,c=20,30,40\n",
    "print(a)\n",
    "print(b)\n",
    "print(c)\n",
    "print(\"---\")\n",
    "x=str(3)\n",
    "y=int(3)\n",
    "z=float(3)\n",
    "print(x)\n",
    "print(y)\n",
    "print(z)"
   ]
  },
  {
   "cell_type": "markdown",
   "id": "4a312399",
   "metadata": {},
   "source": [
    "# string operations"
   ]
  },
  {
   "cell_type": "code",
   "execution_count": 149,
   "id": "30d7f922",
   "metadata": {},
   "outputs": [
    {
     "name": "stdout",
     "output_type": "stream",
     "text": [
      " Ammani is good girl good\n",
      " AMMANI IS GOOD GIRL GOOD\n",
      " ammani is good girl good\n",
      "25\n",
      " ammani is good girl good\n",
      "False\n",
      "False\n",
      "2\n",
      "True\n",
      "(' Ammani ', 'is', ' good girl good')\n",
      "sSravaniwSravaniaSravanimSravanii\n",
      " Ammani is bad girl bad\n",
      "['Ammani', 'is', 'good', 'girl', 'good']\n",
      " aMMANI IS GOOD GIRL GOOD\n",
      "s\n",
      "a\n",
      "True\n",
      "Ammani is good girl good\n",
      " ammani is good girl good\n",
      "b' Ammani is good girl good'\n",
      "2\n"
     ]
    }
   ],
   "source": [
    "x=\" Ammani is good girl good\"\n",
    "y=\"Sravani\"\n",
    "z=\"swami\"\n",
    "a=\"teacher123\"\n",
    "print(x)\n",
    "print(x.upper())\n",
    "print(x.lower())\n",
    "print(len(x))\n",
    "print(x.capitalize())\n",
    "print(x.isalpha())\n",
    "print(x.isdigit())\n",
    "print(x.count(\"m\"))\n",
    "print(y.istitle())\n",
    "print(x.partition(\"is\"))\n",
    "print(y.join(z))\n",
    "print(x.replace(\"good\",\"bad\"))\n",
    "print(x.split())\n",
    "print(x.swapcase())\n",
    "print(max(x))\n",
    "print(min(z))\n",
    "print(a.isalnum())\n",
    "print(x.strip())\n",
    "print(x.casefold())\n",
    "print(x.encode())\n",
    "print(x.find(\"m\"))"
   ]
  },
  {
   "cell_type": "markdown",
   "id": "cc5d1a21",
   "metadata": {},
   "source": [
    "# list operations"
   ]
  },
  {
   "cell_type": "code",
   "execution_count": 225,
   "id": "c1607ff7",
   "metadata": {},
   "outputs": [
    {
     "name": "stdout",
     "output_type": "stream",
     "text": [
      "[1, 2, 3, 4, 5, 3, 2]\n",
      "7\n",
      "[1, 2, 3, 4, 5, 3, 2, 10, 20, 30, 40, 50]\n",
      "[1, 2, 5, 4, 5, 3, 2]\n",
      "2\n",
      "10\n",
      "5\n",
      "10\n",
      "[1, 2, 5, 4, 5, 3, 10, 20, 30, 40, 50]\n",
      "2\n",
      "[50, 40, 30, 20, 10, 3, 5, 4, 5, 2, 1]\n",
      "[50, 40, 30, 20, 10, 3, 5, 4, 5, 2, 1, 9]\n",
      "[1, 2, 3, 4, 5, 5, 9, 10, 20, 30, 40, 50]\n",
      "[1, 2, 3, 4, 5, 5, 10, 20, 30, 40, 50]\n",
      "[10, 20, 30, 40, 50]\n"
     ]
    }
   ],
   "source": [
    "l1=[1,2,3,4,5,3,2]\n",
    "l2=[10,20,30,40,50]\n",
    "print(l1)\n",
    "print(len(l1))\n",
    "concatenate=l1+l2\n",
    "print(concatenate)\n",
    "replace=l1[2]=5\n",
    "print(l1)\n",
    "l2.index(30)\n",
    "x=l1.insert(2,10)\n",
    "l1\n",
    "print(l1.pop())\n",
    "print(l1.pop(2))\n",
    "print(max(l1))\n",
    "print(min(l2))\n",
    "extend=l1.extend(l2)\n",
    "print(l1)\n",
    "print(l1.count(5))\n",
    "l1.reverse()\n",
    "print(l1)\n",
    "l1.append(9)\n",
    "print(l1)\n",
    "l1.sort()\n",
    "print(l1)\n",
    "l1.remove(9)\n",
    "print(l1)\n",
    "l2.copy()\n",
    "print(l2)"
   ]
  },
  {
   "cell_type": "code",
   "execution_count": 237,
   "id": "fd2a3dc6",
   "metadata": {},
   "outputs": [
    {
     "name": "stdout",
     "output_type": "stream",
     "text": [
      "[]\n"
     ]
    },
    {
     "data": {
      "text/plain": [
       "[1, 4, 7]"
      ]
     },
     "execution_count": 237,
     "metadata": {},
     "output_type": "execute_result"
    }
   ],
   "source": [
    "l=[1,2,3,4,5,6,7,8,9]\n",
    "l[2:5]\n",
    "l[:5]\n",
    "l[2:]\n",
    "print(l[3:3])\n",
    "l[:-2]\n",
    "l[0:-4]\n",
    "l[-2:2]\n",
    "l[:]\n",
    "l[::2]\n",
    "l[::3]"
   ]
  },
  {
   "cell_type": "code",
   "execution_count": 238,
   "id": "60b76fde",
   "metadata": {},
   "outputs": [
    {
     "ename": "TypeError",
     "evalue": "'int' object is not callable",
     "output_type": "error",
     "traceback": [
      "\u001b[1;31m---------------------------------------------------------------------------\u001b[0m",
      "\u001b[1;31mTypeError\u001b[0m                                 Traceback (most recent call last)",
      "\u001b[1;32m~\\AppData\\Local\\Temp/ipykernel_10864/2500998319.py\u001b[0m in \u001b[0;36m<module>\u001b[1;34m\u001b[0m\n\u001b[0;32m      1\u001b[0m \u001b[0mlist\u001b[0m\u001b[1;33m=\u001b[0m\u001b[1;33m[\u001b[0m\u001b[1;36m1\u001b[0m\u001b[1;33m,\u001b[0m\u001b[1;36m2\u001b[0m\u001b[1;33m,\u001b[0m\u001b[1;36m3\u001b[0m\u001b[1;33m]\u001b[0m\u001b[1;33m\u001b[0m\u001b[1;33m\u001b[0m\u001b[0m\n\u001b[1;32m----> 2\u001b[1;33m \u001b[0msum\u001b[0m\u001b[1;33m(\u001b[0m\u001b[0mlist\u001b[0m\u001b[1;33m)\u001b[0m\u001b[1;33m\u001b[0m\u001b[1;33m\u001b[0m\u001b[0m\n\u001b[0m",
      "\u001b[1;31mTypeError\u001b[0m: 'int' object is not callable"
     ]
    }
   ],
   "source": [
    "list=[1,2,3]\n",
    "sum(list)"
   ]
  },
  {
   "cell_type": "code",
   "execution_count": null,
   "id": "b0e86f86",
   "metadata": {},
   "outputs": [],
   "source": []
  }
 ],
 "metadata": {
  "kernelspec": {
   "display_name": "Python 3 (ipykernel)",
   "language": "python",
   "name": "python3"
  },
  "language_info": {
   "codemirror_mode": {
    "name": "ipython",
    "version": 3
   },
   "file_extension": ".py",
   "mimetype": "text/x-python",
   "name": "python",
   "nbconvert_exporter": "python",
   "pygments_lexer": "ipython3",
   "version": "3.9.7"
  }
 },
 "nbformat": 4,
 "nbformat_minor": 5
}
