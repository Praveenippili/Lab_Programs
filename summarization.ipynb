{
 "cells": [
  {
   "cell_type": "code",
   "execution_count": 6,
   "id": "040a85dd",
   "metadata": {},
   "outputs": [
    {
     "name": "stdout",
     "output_type": "stream",
     "text": [
      "0    1\n",
      "1    3\n",
      "2    2\n",
      "3    4\n",
      "4    6\n",
      "dtype: int64 0     1\n",
      "1     3\n",
      "2    20\n",
      "3     4\n",
      "4     6\n",
      "dtype: int64 0     1\n",
      "1     3\n",
      "2     2\n",
      "3     4\n",
      "4    60\n",
      "dtype: int64\n"
     ]
    }
   ],
   "source": [
    "import pandas as pd\n",
    "a=pd.Series([1,3,2,4,6])\n",
    "b=pd.Series([1,3,20,4,6])\n",
    "c=pd.Series([1,3,2,4,60])\n",
    "print(a,b,c)"
   ]
  },
  {
   "cell_type": "code",
   "execution_count": 10,
   "id": "323488ea",
   "metadata": {},
   "outputs": [
    {
     "data": {
      "text/plain": [
       "count    5.000000\n",
       "mean     3.200000\n",
       "std      1.923538\n",
       "min      1.000000\n",
       "25%      2.000000\n",
       "50%      3.000000\n",
       "75%      4.000000\n",
       "max      6.000000\n",
       "dtype: float64"
      ]
     },
     "execution_count": 10,
     "metadata": {},
     "output_type": "execute_result"
    }
   ],
   "source": [
    "import pandas as pd\n",
    "a=pd.Series([1,3,2,4,6])\n",
    "b=pd.Series([1,3,20,4,6])\n",
    "c=pd.Series([1,3,2,4,60])\n",
    "a.describe()"
   ]
  },
  {
   "cell_type": "code",
   "execution_count": 11,
   "id": "5cecfa18",
   "metadata": {},
   "outputs": [
    {
     "data": {
      "text/plain": [
       "count     5.000000\n",
       "mean      6.800000\n",
       "std       7.596052\n",
       "min       1.000000\n",
       "25%       3.000000\n",
       "50%       4.000000\n",
       "75%       6.000000\n",
       "max      20.000000\n",
       "dtype: float64"
      ]
     },
     "execution_count": 11,
     "metadata": {},
     "output_type": "execute_result"
    }
   ],
   "source": [
    "import pandas as pd\n",
    "a=pd.Series([1,3,2,4,6])\n",
    "b=pd.Series([1,3,20,4,6])\n",
    "c=pd.Series([1,3,2,4,60])\n",
    "b.describe()"
   ]
  },
  {
   "cell_type": "code",
   "execution_count": 12,
   "id": "b2f1d578",
   "metadata": {},
   "outputs": [
    {
     "data": {
      "text/plain": [
       "count     5.000000\n",
       "mean     14.000000\n",
       "std      25.739075\n",
       "min       1.000000\n",
       "25%       2.000000\n",
       "50%       3.000000\n",
       "75%       4.000000\n",
       "max      60.000000\n",
       "dtype: float64"
      ]
     },
     "execution_count": 12,
     "metadata": {},
     "output_type": "execute_result"
    }
   ],
   "source": [
    "import pandas as pd\n",
    "a=pd.Series([1,3,2,4,6])\n",
    "b=pd.Series([1,3,20,4,6])\n",
    "c=pd.Series([1,3,2,4,60])\n",
    "c.describe()"
   ]
  },
  {
   "cell_type": "code",
   "execution_count": 14,
   "id": "51e37fb5",
   "metadata": {},
   "outputs": [
    {
     "ename": "TypeError",
     "evalue": "'tuple' object is not callable",
     "output_type": "error",
     "traceback": [
      "\u001b[1;31m---------------------------------------------------------------------------\u001b[0m",
      "\u001b[1;31mTypeError\u001b[0m                                 Traceback (most recent call last)",
      "\u001b[1;32m~\\AppData\\Local\\Temp/ipykernel_4228/936378578.py\u001b[0m in \u001b[0;36m<module>\u001b[1;34m\u001b[0m\n\u001b[0;32m      9\u001b[0m \u001b[0mcount\u001b[0m\u001b[1;33m=\u001b[0m\u001b[0ma\u001b[0m\u001b[1;33m.\u001b[0m\u001b[0mcount\u001b[0m\u001b[1;33m(\u001b[0m\u001b[1;33m)\u001b[0m\u001b[1;33m\u001b[0m\u001b[1;33m\u001b[0m\u001b[0m\n\u001b[0;32m     10\u001b[0m \u001b[0mhead\u001b[0m\u001b[1;33m=\u001b[0m\u001b[0ma\u001b[0m\u001b[1;33m.\u001b[0m\u001b[0mhead\u001b[0m\u001b[1;33m(\u001b[0m\u001b[1;33m)\u001b[0m\u001b[1;33m\u001b[0m\u001b[1;33m\u001b[0m\u001b[0m\n\u001b[1;32m---> 11\u001b[1;33m \u001b[0mshape\u001b[0m\u001b[1;33m=\u001b[0m\u001b[0ma\u001b[0m\u001b[1;33m.\u001b[0m\u001b[0mshape\u001b[0m\u001b[1;33m(\u001b[0m\u001b[1;33m)\u001b[0m\u001b[1;33m\u001b[0m\u001b[1;33m\u001b[0m\u001b[0m\n\u001b[0m\u001b[0;32m     12\u001b[0m \u001b[0mprint\u001b[0m\u001b[1;33m(\u001b[0m\u001b[0mmean\u001b[0m\u001b[1;33m)\u001b[0m\u001b[1;33m\u001b[0m\u001b[1;33m\u001b[0m\u001b[0m\n\u001b[0;32m     13\u001b[0m \u001b[0mprint\u001b[0m\u001b[1;33m(\u001b[0m\u001b[0mmedian\u001b[0m\u001b[1;33m)\u001b[0m\u001b[1;33m\u001b[0m\u001b[1;33m\u001b[0m\u001b[0m\n",
      "\u001b[1;31mTypeError\u001b[0m: 'tuple' object is not callable"
     ]
    }
   ],
   "source": [
    "import pandas as pd\n",
    "a=pd.Series([10,20,30,40,50,10])\n",
    "mean=a.mean()\n",
    "median=a.median()\n",
    "mode=a.mode()\n",
    "var=a.var()\n",
    "std=a.std()\n",
    "max=a.max()\n",
    "count=a.count()\n",
    "head=a.head()\n",
    "shape=a.shape()\n",
    "print(mean)\n",
    "print(median)\n",
    "print(mode)\n",
    "print(var)\n",
    "print(std)\n",
    "print(max)\n",
    "print(count)\n",
    "print(head)\n",
    "print(shape)"
   ]
  },
  {
   "cell_type": "code",
   "execution_count": 17,
   "id": "7aa1b21e",
   "metadata": {},
   "outputs": [
    {
     "data": {
      "text/plain": [
       "25.0"
      ]
     },
     "execution_count": 17,
     "metadata": {},
     "output_type": "execute_result"
    }
   ],
   "source": [
    "a.median()"
   ]
  },
  {
   "cell_type": "code",
   "execution_count": 18,
   "id": "04ac00e8",
   "metadata": {},
   "outputs": [
    {
     "data": {
      "text/plain": [
       "0    10\n",
       "dtype: int64"
      ]
     },
     "execution_count": 18,
     "metadata": {},
     "output_type": "execute_result"
    }
   ],
   "source": [
    "a.mode()"
   ]
  },
  {
   "cell_type": "code",
   "execution_count": 20,
   "id": "43f7d7fd",
   "metadata": {},
   "outputs": [
    {
     "data": {
      "text/plain": [
       "266.66666666666663"
      ]
     },
     "execution_count": 20,
     "metadata": {},
     "output_type": "execute_result"
    }
   ],
   "source": [
    "a.var()"
   ]
  },
  {
   "cell_type": "code",
   "execution_count": 24,
   "id": "2286300c",
   "metadata": {},
   "outputs": [
    {
     "data": {
      "text/plain": [
       "16.329931618554518"
      ]
     },
     "execution_count": 24,
     "metadata": {},
     "output_type": "execute_result"
    }
   ],
   "source": [
    "a.std()"
   ]
  },
  {
   "cell_type": "code",
   "execution_count": 4,
   "id": "5381606c",
   "metadata": {},
   "outputs": [],
   "source": [
    "import matplotlib.pyplot as plt\n",
    "import pandas as pd\n",
    "x=pd.Series([10,20,30,40,50,20])\n",
    "mean=x.mean()\n",
    "median=x.median()\n",
    "Mode=x.mode()\n",
    "Var=x.var()\n",
    "Std=x.std()"
   ]
  },
  {
   "cell_type": "code",
   "execution_count": 89,
   "id": "114aed18",
   "metadata": {},
   "outputs": [
    {
     "data": {
      "image/png": "[encoded data removed]",
      "text/plain": [
       "<Figure size 432x288 with 1 Axes>"
      ]
     },
     "metadata": {
      "needs_background": "light"
     },
     "output_type": "display_data"
    }
   ],
   "source": [
    "import matplotlib.pyplot as plt\n",
    "x=[1,2,3,4,5]\n",
    "y=[mean,median,Mode,Var,Std]\n",
    "plt.plot(x,y,marker=\"*\",label=\"1-mean,2-median,3-Mode,4-Var,5-Std\")\n",
    "plt.legend(loc='upper left')\n",
    "plt.show()"
   ]
  },
  {
   "cell_type": "code",
   "execution_count": 146,
   "id": "51cb7882",
   "metadata": {},
   "outputs": [
    {
     "data": {
      "image/png": "[encoded data removed]",
      "text/plain": [
       "<Figure size 432x288 with 1 Axes>"
      ]
     },
     "metadata": {},
     "output_type": "display_data"
    }
   ],
   "source": [
    "import pandas as pd\n",
    "import matplotlib.pyplot as plt\n",
    "x=[mean,median,var,Std]\n",
    "labels=('1-mean','2-median','3-Mode','4-Var','5-Std')\n",
    "plt.pie(x,autopct='%1.1f%%')\n",
    "plt.legend(x,loc='lower left')\n",
    "plt.title(\"mathmetical representation\")\n",
    "plt.show()\n"
   ]
  },
  {
   "cell_type": "code",
   "execution_count": null,
   "id": "e4b0d8b1",
   "metadata": {},
   "outputs": [],
   "source": [
    "import matplotlib.pyplot as plt\n",
    "x=[mean,median]"
   ]
  },
  {
   "cell_type": "code",
   "execution_count": null,
   "id": "95a46523",
   "metadata": {},
   "outputs": [],
   "source": []
  }
 ],
 "metadata": {
  "kernelspec": {
   "display_name": "Python 3 (ipykernel)",
   "language": "python",
   "name": "python3"
  },
  "language_info": {
   "codemirror_mode": {
    "name": "ipython",
    "version": 3
   },
   "file_extension": ".py",
   "mimetype": "text/x-python",
   "name": "python",
   "nbconvert_exporter": "python",
   "pygments_lexer": "ipython3",
   "version": "3.9.7"
  }
 },
 "nbformat": 4,
 "nbformat_minor": 5
}
